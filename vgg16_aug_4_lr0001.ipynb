{
 "cells": [
  {
   "cell_type": "code",
   "execution_count": 1,
   "metadata": {},
   "outputs": [
    {
     "name": "stdout",
     "output_type": "stream",
     "text": [
      "[PhysicalDevice(name='/physical_device:GPU:0', device_type='GPU')]\n"
     ]
    }
   ],
   "source": [
    "import tensorflow as tf\n",
    "print(tf.config.list_physical_devices('GPU'))"
   ]
  },
  {
   "cell_type": "code",
   "execution_count": 2,
   "metadata": {},
   "outputs": [
    {
     "name": "stdout",
     "output_type": "stream",
     "text": [
      "WARNING:tensorflow:From C:\\Users\\LEGION\\AppData\\Local\\Temp\\ipykernel_12992\\4051749838.py:2: is_gpu_available (from tensorflow.python.framework.test_util) is deprecated and will be removed in a future version.\n",
      "Instructions for updating:\n",
      "Use `tf.config.list_physical_devices('GPU')` instead.\n"
     ]
    },
    {
     "data": {
      "text/plain": [
       "True"
      ]
     },
     "execution_count": 2,
     "metadata": {},
     "output_type": "execute_result"
    }
   ],
   "source": [
    "tf.config.list_physical_devices('GPU')\n",
    "tf.test.is_gpu_available()\n"
   ]
  },
  {
   "cell_type": "code",
   "execution_count": 3,
   "metadata": {},
   "outputs": [
    {
     "name": "stdout",
     "output_type": "stream",
     "text": [
      "Num GPUs Available:  1\n"
     ]
    }
   ],
   "source": [
    "print(\"Num GPUs Available: \", len(tf.config.list_physical_devices('GPU')))"
   ]
  },
  {
   "cell_type": "code",
   "execution_count": 4,
   "metadata": {},
   "outputs": [],
   "source": [
    "import tensorflow as tf\n",
    "from zipfile import ZipFile\n",
    "import os,glob\n",
    "import cv2\n",
    "from tqdm.notebook import tqdm_notebook as tqdm\n",
    "import numpy as np\n",
    "from sklearn import preprocessing\n",
    "from sklearn.model_selection import train_test_split\n",
    "from keras.models import Sequential\n",
    "from keras.layers import Convolution2D, Dropout, Dense,MaxPooling2D\n",
    "from keras.layers import BatchNormalization\n",
    "from keras.layers import MaxPooling2D\n",
    "from keras.layers import Flatten\n",
    "from zipfile import ZipFile\n",
    "import numpy as np\n",
    "from sklearn.metrics import confusion_matrix, ConfusionMatrixDisplay\n",
    "import matplotlib.pyplot as plt\n",
    "import pandas as pd\n",
    "from keras.callbacks import ModelCheckpoint"
   ]
  },
  {
   "cell_type": "code",
   "execution_count": 5,
   "metadata": {},
   "outputs": [],
   "source": [
    "import sys\n",
    "from PIL import Image\n",
    "sys.modules['Image'] = Image "
   ]
  },
  {
   "cell_type": "code",
   "execution_count": 6,
   "metadata": {},
   "outputs": [
    {
     "name": "stdout",
     "output_type": "stream",
     "text": [
      "c:\\Users\\LEGION\\anaconda3\\envs\\python310\\lib\\site-packages\\PIL\\Image.py\n"
     ]
    }
   ],
   "source": [
    "from PIL import Image\n",
    "print(Image.__file__)"
   ]
  },
  {
   "cell_type": "code",
   "execution_count": 7,
   "metadata": {},
   "outputs": [
    {
     "name": "stdout",
     "output_type": "stream",
     "text": [
      "c:\\Users\\LEGION\\anaconda3\\envs\\python310\\lib\\site-packages\\PIL\\Image.py\n"
     ]
    }
   ],
   "source": [
    "import Image\n",
    "print(Image.__file__)"
   ]
  },
  {
   "cell_type": "code",
   "execution_count": 8,
   "metadata": {},
   "outputs": [],
   "source": [
    "from tensorflow.keras.preprocessing.image import ImageDataGenerator"
   ]
  },
  {
   "cell_type": "code",
   "execution_count": 9,
   "metadata": {},
   "outputs": [],
   "source": [
    "# scale_datagen = ImageDataGenerator(rescale=1./255,\n",
    "#                                    validation_split=0.3)\n",
    "\n",
    "scale_datagen = ImageDataGenerator(rescale=1./255)"
   ]
  },
  {
   "cell_type": "code",
   "execution_count": 10,
   "metadata": {},
   "outputs": [],
   "source": [
    "# train_dir = r\"D:\\PROJECT\\2_COMPUTER VISION\\Image Segmentation\\Augmented\"\n",
    "# # train_dir = '/content/drive/MyDrive/Colab Skripsi/DATASETNEW/2_Augmented'\n",
    "# # val_dir = '/content/drive/MyDrive/Colab Skripsi/DATASETNEW/2_Split/val'\n",
    "# # test_dir = '/content/drive/MyDrive/Colab Skripsi/DATASETNEW/2_Split/test'\n",
    "\n",
    "\n",
    "train_dir = r\"D:\\PROJECT\\2_COMPUTER VISION\\Image Segmentation\\SPLIT_TRAINDATA\\train\"\n",
    "val_dir = r\"D:\\PROJECT\\2_COMPUTER VISION\\Image Segmentation\\SPLIT_TRAINDATA\\val\"\n",
    "test_dir = r\"D:\\PROJECT\\2_COMPUTER VISION\\Image Segmentation\\SPLIT_TRAINDATA\\test\""
   ]
  },
  {
   "cell_type": "code",
   "execution_count": 11,
   "metadata": {},
   "outputs": [
    {
     "name": "stdout",
     "output_type": "stream",
     "text": [
      "Found 20422 images belonging to 4 classes.\n"
     ]
    }
   ],
   "source": [
    "train_generator = scale_datagen.flow_from_directory(\n",
    "    train_dir,\n",
    "    # subset='training',\n",
    "    target_size=(224, 224),\n",
    "    batch_size=40,\n",
    "    class_mode='categorical'\n",
    ")"
   ]
  },
  {
   "cell_type": "code",
   "execution_count": 12,
   "metadata": {},
   "outputs": [
    {
     "name": "stdout",
     "output_type": "stream",
     "text": [
      "Found 5834 images belonging to 4 classes.\n"
     ]
    }
   ],
   "source": [
    "val_generator = scale_datagen.flow_from_directory(\n",
    "    val_dir,\n",
    "    # subset='validation',\n",
    "    target_size=(224, 224),\n",
    "    batch_size=40,\n",
    "    class_mode='categorical'\n",
    ")"
   ]
  },
  {
   "cell_type": "code",
   "execution_count": 13,
   "metadata": {},
   "outputs": [
    {
     "name": "stdout",
     "output_type": "stream",
     "text": [
      "Found 2922 images belonging to 4 classes.\n"
     ]
    }
   ],
   "source": [
    "test_generator = scale_datagen.flow_from_directory(\n",
    "    test_dir,\n",
    "    # subset='validation',\n",
    "    target_size=(224, 224),\n",
    "    batch_size=40,\n",
    "    class_mode='categorical'\n",
    ")"
   ]
  },
  {
   "cell_type": "code",
   "execution_count": 14,
   "metadata": {},
   "outputs": [
    {
     "name": "stdout",
     "output_type": "stream",
     "text": [
      "511\n",
      "146\n",
      "74\n"
     ]
    }
   ],
   "source": [
    "print(len(train_generator))\n",
    "print(len(val_generator))\n",
    "print(len(test_generator))"
   ]
  },
  {
   "cell_type": "code",
   "execution_count": 15,
   "metadata": {},
   "outputs": [
    {
     "name": "stdout",
     "output_type": "stream",
     "text": [
      "0 InputLayer False\n",
      "1 Conv2D False\n",
      "2 Conv2D False\n",
      "3 MaxPooling2D False\n",
      "4 Conv2D False\n",
      "5 Conv2D False\n",
      "6 MaxPooling2D False\n",
      "7 Conv2D False\n",
      "8 Conv2D False\n",
      "9 Conv2D False\n",
      "10 MaxPooling2D False\n",
      "11 Conv2D False\n",
      "12 Conv2D False\n",
      "13 Conv2D False\n",
      "14 MaxPooling2D False\n",
      "15 Conv2D False\n",
      "16 Conv2D False\n",
      "17 Conv2D False\n",
      "18 MaxPooling2D False\n"
     ]
    }
   ],
   "source": [
    "# jadi ini modelnya kek gausah bikin dari nol lagi tapi pake arsitektur yang udah ada\n",
    "\n",
    "from keras.applications import vgg16\n",
    "from keras.models import Sequential\n",
    "from keras.layers import Dense, Dropout, Activation, Flatten, GlobalAveragePooling2D\n",
    "from keras.layers import Conv2D, MaxPooling2D, ZeroPadding2D\n",
    "\n",
    "from keras.models import Model\n",
    "\n",
    "# SET DIMENSI INPUTNYA\n",
    "img_rows, img_cols = 224, 224\n",
    "\n",
    "# model learningnya based on imagenet dataset jadi weightnya set ke imagenet\n",
    "# top layer diganti soalnya outputnya ada 20k neuron, tapi kita cuma butuh 2 neuron soalnya outputnya kan cuma 2, yes sama no\n",
    "# ini download model yang udah ada jadi pake model vgg16\n",
    "vgg = vgg16.VGG16(weights = \"imagenet\",\n",
    "                  include_top = False,\n",
    "                  input_shape = (img_rows, img_cols, 3))\n",
    "\n",
    "# Ngefreeze 4 layer terkahir\n",
    "# Layers yang di set ke trainable defaultnya True\n",
    "\n",
    "for layer in vgg.layers:\n",
    "  layer.trainable = False\n",
    "\n",
    "# ngeprint semua layernya\n",
    "for (i, layer) in enumerate(vgg.layers):\n",
    "  print(str(i) + \" \"+ layer.__class__.__name__, layer.trainable)"
   ]
  },
  {
   "cell_type": "code",
   "execution_count": 16,
   "metadata": {},
   "outputs": [],
   "source": [
    "# tambahin beberapa layer ke model itu tadi\n",
    "\n",
    "def lw(bottom_model, num_classes):\n",
    "  \"\"\"\"creates the top or head of the model that will be\n",
    "  placed ontop of the bottom layers\"\"\"\n",
    "\n",
    "  top_model = bottom_model.output\n",
    "  top_model = GlobalAveragePooling2D()(top_model)\n",
    "  top_model = Dense(1024,activation=\"relu\")(top_model)\n",
    "  top_model = Dense(1024,activation=\"relu\")(top_model)\n",
    "  top_model = Dense(512,activation=\"relu\")(top_model)\n",
    "  top_model = Dense(num_classes,activation='softmax')(top_model) #last output layer, number of classes = 4\n",
    "  return top_model"
   ]
  },
  {
   "cell_type": "code",
   "execution_count": 17,
   "metadata": {},
   "outputs": [
    {
     "name": "stdout",
     "output_type": "stream",
     "text": [
      "Model: \"model\"\n",
      "_________________________________________________________________\n",
      " Layer (type)                Output Shape              Param #   \n",
      "=================================================================\n",
      " input_1 (InputLayer)        [(None, 224, 224, 3)]     0         \n",
      "                                                                 \n",
      " block1_conv1 (Conv2D)       (None, 224, 224, 64)      1792      \n",
      "                                                                 \n",
      " block1_conv2 (Conv2D)       (None, 224, 224, 64)      36928     \n",
      "                                                                 \n",
      " block1_pool (MaxPooling2D)  (None, 112, 112, 64)      0         \n",
      "                                                                 \n",
      " block2_conv1 (Conv2D)       (None, 112, 112, 128)     73856     \n",
      "                                                                 \n",
      " block2_conv2 (Conv2D)       (None, 112, 112, 128)     147584    \n",
      "                                                                 \n",
      " block2_pool (MaxPooling2D)  (None, 56, 56, 128)       0         \n",
      "                                                                 \n",
      " block3_conv1 (Conv2D)       (None, 56, 56, 256)       295168    \n",
      "                                                                 \n",
      " block3_conv2 (Conv2D)       (None, 56, 56, 256)       590080    \n",
      "                                                                 \n",
      " block3_conv3 (Conv2D)       (None, 56, 56, 256)       590080    \n",
      "                                                                 \n",
      " block3_pool (MaxPooling2D)  (None, 28, 28, 256)       0         \n",
      "                                                                 \n",
      " block4_conv1 (Conv2D)       (None, 28, 28, 512)       1180160   \n",
      "                                                                 \n",
      " block4_conv2 (Conv2D)       (None, 28, 28, 512)       2359808   \n",
      "                                                                 \n",
      " block4_conv3 (Conv2D)       (None, 28, 28, 512)       2359808   \n",
      "                                                                 \n",
      " block4_pool (MaxPooling2D)  (None, 14, 14, 512)       0         \n",
      "                                                                 \n",
      " block5_conv1 (Conv2D)       (None, 14, 14, 512)       2359808   \n",
      "                                                                 \n",
      " block5_conv2 (Conv2D)       (None, 14, 14, 512)       2359808   \n",
      "                                                                 \n",
      " block5_conv3 (Conv2D)       (None, 14, 14, 512)       2359808   \n",
      "                                                                 \n",
      " block5_pool (MaxPooling2D)  (None, 7, 7, 512)         0         \n",
      "                                                                 \n",
      " global_average_pooling2d (G  (None, 512)              0         \n",
      " lobalAveragePooling2D)                                          \n",
      "                                                                 \n",
      " dense (Dense)               (None, 1024)              525312    \n",
      "                                                                 \n",
      " dense_1 (Dense)             (None, 1024)              1049600   \n",
      "                                                                 \n",
      " dense_2 (Dense)             (None, 512)               524800    \n",
      "                                                                 \n",
      " dense_3 (Dense)             (None, 4)                 2052      \n",
      "                                                                 \n",
      "=================================================================\n",
      "Total params: 16,816,452\n",
      "Trainable params: 2,101,764\n",
      "Non-trainable params: 14,714,688\n",
      "_________________________________________________________________\n",
      "None\n"
     ]
    }
   ],
   "source": [
    "# itu tadi udah dibikin function lw nya, secara function lwnya di call\n",
    "\n",
    "# jumlah class nya 2 soalnya yes sama no\n",
    "num_classes = 4\n",
    "\n",
    "FC_Head = lw(vgg, num_classes)\n",
    "\n",
    "model = Model(inputs = vgg.input, outputs = FC_Head)\n",
    "\n",
    "print(model.summary())"
   ]
  },
  {
   "cell_type": "code",
   "execution_count": 18,
   "metadata": {},
   "outputs": [],
   "source": [
    "from tensorflow.keras.models import Model\n",
    "from tensorflow.keras.optimizers import Adam\n",
    "# model.compile(optimizer='adam', loss = 'categorical_crossentropy',metrics = ['accuracy'])\n",
    "\n",
    "\n",
    "learning_rate = 0.0001\n",
    "optimizer = Adam(learning_rate=learning_rate)\n",
    "\n",
    "model.compile(optimizer=optimizer, loss='categorical_crossentropy', metrics=['accuracy'])"
   ]
  },
  {
   "cell_type": "code",
   "execution_count": 19,
   "metadata": {},
   "outputs": [
    {
     "name": "stdout",
     "output_type": "stream",
     "text": [
      "Epoch 1/20\n",
      "511/511 [==============================] - ETA: 0s - loss: 0.6680 - accuracy: 0.7454\n",
      "Epoch 1: val_accuracy improved from -inf to 0.85824, saving model to D:\\PROJECT\\SKRIPSI\\skripsi_vgg16_0001_augment_1.model.keras\n",
      "511/511 [==============================] - 170s 318ms/step - loss: 0.6680 - accuracy: 0.7454 - val_loss: 0.3897 - val_accuracy: 0.8582\n",
      "Epoch 2/20\n",
      "511/511 [==============================] - ETA: 0s - loss: 0.3522 - accuracy: 0.8692\n",
      "Epoch 2: val_accuracy improved from 0.85824 to 0.88138, saving model to D:\\PROJECT\\SKRIPSI\\skripsi_vgg16_0001_augment_1.model.keras\n",
      "511/511 [==============================] - 158s 309ms/step - loss: 0.3522 - accuracy: 0.8692 - val_loss: 0.3116 - val_accuracy: 0.8814\n",
      "Epoch 3/20\n",
      "511/511 [==============================] - ETA: 0s - loss: 0.2847 - accuracy: 0.8928\n",
      "Epoch 3: val_accuracy improved from 0.88138 to 0.90093, saving model to D:\\PROJECT\\SKRIPSI\\skripsi_vgg16_0001_augment_1.model.keras\n",
      "511/511 [==============================] - 159s 310ms/step - loss: 0.2847 - accuracy: 0.8928 - val_loss: 0.2590 - val_accuracy: 0.9009\n",
      "Epoch 4/20\n",
      "511/511 [==============================] - ETA: 0s - loss: 0.2586 - accuracy: 0.9017\n",
      "Epoch 4: val_accuracy improved from 0.90093 to 0.90898, saving model to D:\\PROJECT\\SKRIPSI\\skripsi_vgg16_0001_augment_1.model.keras\n",
      "511/511 [==============================] - 159s 311ms/step - loss: 0.2586 - accuracy: 0.9017 - val_loss: 0.2433 - val_accuracy: 0.9090\n",
      "Epoch 5/20\n",
      "511/511 [==============================] - ETA: 0s - loss: 0.2362 - accuracy: 0.9094\n",
      "Epoch 5: val_accuracy improved from 0.90898 to 0.90932, saving model to D:\\PROJECT\\SKRIPSI\\skripsi_vgg16_0001_augment_1.model.keras\n",
      "511/511 [==============================] - 160s 312ms/step - loss: 0.2362 - accuracy: 0.9094 - val_loss: 0.2295 - val_accuracy: 0.9093\n",
      "Epoch 6/20\n",
      "511/511 [==============================] - ETA: 0s - loss: 0.2188 - accuracy: 0.9157\n",
      "Epoch 6: val_accuracy improved from 0.90932 to 0.91601, saving model to D:\\PROJECT\\SKRIPSI\\skripsi_vgg16_0001_augment_1.model.keras\n",
      "511/511 [==============================] - 159s 312ms/step - loss: 0.2188 - accuracy: 0.9157 - val_loss: 0.2159 - val_accuracy: 0.9160\n",
      "Epoch 7/20\n",
      "511/511 [==============================] - ETA: 0s - loss: 0.2064 - accuracy: 0.9223\n",
      "Epoch 7: val_accuracy improved from 0.91601 to 0.92149, saving model to D:\\PROJECT\\SKRIPSI\\skripsi_vgg16_0001_augment_1.model.keras\n",
      "511/511 [==============================] - 159s 311ms/step - loss: 0.2064 - accuracy: 0.9223 - val_loss: 0.2016 - val_accuracy: 0.9215\n",
      "Epoch 8/20\n",
      "511/511 [==============================] - ETA: 0s - loss: 0.1977 - accuracy: 0.9254\n",
      "Epoch 8: val_accuracy improved from 0.92149 to 0.92681, saving model to D:\\PROJECT\\SKRIPSI\\skripsi_vgg16_0001_augment_1.model.keras\n",
      "511/511 [==============================] - 159s 312ms/step - loss: 0.1977 - accuracy: 0.9254 - val_loss: 0.1925 - val_accuracy: 0.9268\n",
      "Epoch 9/20\n",
      "511/511 [==============================] - ETA: 0s - loss: 0.1847 - accuracy: 0.9310\n",
      "Epoch 9: val_accuracy did not improve from 0.92681\n",
      "511/511 [==============================] - 159s 311ms/step - loss: 0.1847 - accuracy: 0.9310 - val_loss: 0.2076 - val_accuracy: 0.9215\n",
      "Epoch 10/20\n",
      "511/511 [==============================] - ETA: 0s - loss: 0.1808 - accuracy: 0.9302\n",
      "Epoch 10: val_accuracy did not improve from 0.92681\n",
      "511/511 [==============================] - 159s 310ms/step - loss: 0.1808 - accuracy: 0.9302 - val_loss: 0.1977 - val_accuracy: 0.9248\n",
      "Epoch 11/20\n",
      "511/511 [==============================] - ETA: 0s - loss: 0.1672 - accuracy: 0.9364\n",
      "Epoch 11: val_accuracy did not improve from 0.92681\n",
      "511/511 [==============================] - 159s 310ms/step - loss: 0.1672 - accuracy: 0.9364 - val_loss: 0.1923 - val_accuracy: 0.9239\n",
      "Epoch 12/20\n",
      "511/511 [==============================] - ETA: 0s - loss: 0.1567 - accuracy: 0.9407\n",
      "Epoch 12: val_accuracy improved from 0.92681 to 0.93418, saving model to D:\\PROJECT\\SKRIPSI\\skripsi_vgg16_0001_augment_1.model.keras\n",
      "511/511 [==============================] - 159s 311ms/step - loss: 0.1567 - accuracy: 0.9407 - val_loss: 0.1690 - val_accuracy: 0.9342\n",
      "Epoch 13/20\n",
      "511/511 [==============================] - ETA: 0s - loss: 0.1591 - accuracy: 0.9406\n",
      "Epoch 13: val_accuracy did not improve from 0.93418\n",
      "511/511 [==============================] - 158s 310ms/step - loss: 0.1591 - accuracy: 0.9406 - val_loss: 0.1733 - val_accuracy: 0.9332\n",
      "Epoch 14/20\n",
      "511/511 [==============================] - ETA: 0s - loss: 0.1505 - accuracy: 0.9428\n",
      "Epoch 14: val_accuracy improved from 0.93418 to 0.93829, saving model to D:\\PROJECT\\SKRIPSI\\skripsi_vgg16_0001_augment_1.model.keras\n",
      "511/511 [==============================] - 159s 310ms/step - loss: 0.1505 - accuracy: 0.9428 - val_loss: 0.1629 - val_accuracy: 0.9383\n",
      "Epoch 15/20\n",
      "511/511 [==============================] - ETA: 0s - loss: 0.1450 - accuracy: 0.9449\n",
      "Epoch 15: val_accuracy improved from 0.93829 to 0.93915, saving model to D:\\PROJECT\\SKRIPSI\\skripsi_vgg16_0001_augment_1.model.keras\n",
      "511/511 [==============================] - 159s 311ms/step - loss: 0.1450 - accuracy: 0.9449 - val_loss: 0.1612 - val_accuracy: 0.9391\n",
      "Epoch 16/20\n",
      "511/511 [==============================] - ETA: 0s - loss: 0.1364 - accuracy: 0.9484\n",
      "Epoch 16: val_accuracy did not improve from 0.93915\n",
      "511/511 [==============================] - 158s 310ms/step - loss: 0.1364 - accuracy: 0.9484 - val_loss: 0.1704 - val_accuracy: 0.9337\n",
      "Epoch 17/20\n",
      "511/511 [==============================] - ETA: 0s - loss: 0.1316 - accuracy: 0.9507\n",
      "Epoch 17: val_accuracy improved from 0.93915 to 0.94412, saving model to D:\\PROJECT\\SKRIPSI\\skripsi_vgg16_0001_augment_1.model.keras\n",
      "511/511 [==============================] - 159s 311ms/step - loss: 0.1316 - accuracy: 0.9507 - val_loss: 0.1464 - val_accuracy: 0.9441\n",
      "Epoch 18/20\n",
      "511/511 [==============================] - ETA: 0s - loss: 0.1265 - accuracy: 0.9522\n",
      "Epoch 18: val_accuracy did not improve from 0.94412\n",
      "511/511 [==============================] - 158s 310ms/step - loss: 0.1265 - accuracy: 0.9522 - val_loss: 0.1505 - val_accuracy: 0.9415\n",
      "Epoch 19/20\n",
      "511/511 [==============================] - ETA: 0s - loss: 0.1219 - accuracy: 0.9533\n",
      "Epoch 19: val_accuracy did not improve from 0.94412\n",
      "511/511 [==============================] - 158s 310ms/step - loss: 0.1219 - accuracy: 0.9533 - val_loss: 0.1461 - val_accuracy: 0.9441\n",
      "Epoch 20/20\n",
      "511/511 [==============================] - ETA: 0s - loss: 0.1183 - accuracy: 0.9547\n",
      "Epoch 20: val_accuracy did not improve from 0.94412\n",
      "511/511 [==============================] - 158s 310ms/step - loss: 0.1183 - accuracy: 0.9547 - val_loss: 0.1568 - val_accuracy: 0.9381\n"
     ]
    }
   ],
   "source": [
    "# training mulai\n",
    "filepath=r'D:\\PROJECT\\SKRIPSI\\skripsi_vgg16_0001_augment_1.model.keras'\n",
    "checkpoint = ModelCheckpoint(filepath=filepath,\n",
    "                             monitor='val_accuracy',\n",
    "                             save_best_only=True,\n",
    "                             mode='max',\n",
    "                             verbose=1)\n",
    "history = model.fit(train_generator,\n",
    "                    epochs=20,\n",
    "                    validation_data=(val_generator),\n",
    "                    initial_epoch=0,\n",
    "                    callbacks=[checkpoint])\n",
    "\n",
    "\n",
    "# # training mulai\n",
    "\n",
    "# history = model.fit(train_generator,\n",
    "#                     epochs=10,\n",
    "#                     validation_data=(val_generator),\n",
    "#                     verbose = 1,\n",
    "#                     initial_epoch=0)"
   ]
  },
  {
   "cell_type": "code",
   "execution_count": 20,
   "metadata": {},
   "outputs": [],
   "source": [
    "# SAVE MODEL\n",
    "save_path = r\"D:\\PROJECT\\SKRIPSI\\skripsi_vgg16_0001_augment_1.h5\"\n",
    "model.save(save_path)"
   ]
  },
  {
   "cell_type": "code",
   "execution_count": 21,
   "metadata": {},
   "outputs": [],
   "source": [
    "# SAVE MODEL\n",
    "weights_path = r\"D:\\PROJECT\\SKRIPSI\\skripsi_vgg16_0001_augment_1_weights.h5\"\n",
    "model.save_weights(weights_path)"
   ]
  },
  {
   "cell_type": "markdown",
   "metadata": {},
   "source": [
    "EVALUASI"
   ]
  },
  {
   "cell_type": "code",
   "execution_count": 22,
   "metadata": {},
   "outputs": [
    {
     "data": {
      "image/png": "[encoded data removed]",
      "text/plain": [
       "<Figure size 640x480 with 1 Axes>"
      ]
     },
     "metadata": {},
     "output_type": "display_data"
    },
    {
     "data": {
      "text/plain": [
       "<Figure size 640x480 with 0 Axes>"
      ]
     },
     "metadata": {},
     "output_type": "display_data"
    }
   ],
   "source": [
    "import matplotlib.pyplot as plt\n",
    "%matplotlib inline\n",
    "acc = history.history['accuracy']\n",
    "val_acc = history.history['val_accuracy']\n",
    "loss = history.history['loss']\n",
    "val_loss = history.history['val_loss']\n",
    "\n",
    "epochs = range(len(acc))\n",
    "\n",
    "plt.plot(epochs, acc, 'r', label='Training accuracy')\n",
    "plt.plot(epochs, val_acc, 'b', label='validation accuracy')\n",
    "plt.title('Training and validation accuracy')\n",
    "plt.legend(loc=0)\n",
    "plt.figure()\n",
    "\n",
    "plt.show()"
   ]
  },
  {
   "cell_type": "code",
   "execution_count": 23,
   "metadata": {},
   "outputs": [
    {
     "data": {
      "image/png": "[encoded data removed]",
      "text/plain": [
       "<Figure size 1200x500 with 2 Axes>"
      ]
     },
     "metadata": {},
     "output_type": "display_data"
    }
   ],
   "source": [
    "# Grafik plot value accuracy training sama validation\n",
    "plt.figure(figsize=(12, 5))\n",
    "\n",
    "plt.subplot(1, 2, 1)\n",
    "plt.plot(acc, 'r', label='Training Accuracy')\n",
    "plt.plot(val_acc, 'b', label='Validation Accuracy')\n",
    "plt.title('Model Accuracy')\n",
    "plt.xlabel('Epoch')\n",
    "plt.ylabel('Accuracy')\n",
    "plt.legend()\n",
    "plt.grid(True)\n",
    "\n",
    "# Grafik plot value loss training sama validation\n",
    "plt.subplot(1, 2, 2)\n",
    "plt.plot(loss, 'g', label='Training Loss')\n",
    "plt.plot(val_loss, 'y', label='Validation Loss')\n",
    "plt.title('Model Loss')\n",
    "plt.xlabel('Epoch')\n",
    "plt.ylabel('Loss')\n",
    "plt.legend()\n",
    "plt.grid(True)\n",
    "\n",
    "plt.show()"
   ]
  },
  {
   "cell_type": "code",
   "execution_count": 24,
   "metadata": {},
   "outputs": [],
   "source": [
    "from tensorflow import keras\n",
    "\n",
    "model = keras.models.load_model(\"skripsi_vgg16_0001_augment_1.model.keras\")"
   ]
  },
  {
   "cell_type": "code",
   "execution_count": 25,
   "metadata": {},
   "outputs": [],
   "source": [
    "test_dir = r\"D:\\PROJECT\\2_COMPUTER VISION\\Image Segmentation\\SPLIT_TRAINDATA\\test\""
   ]
  },
  {
   "cell_type": "code",
   "execution_count": 26,
   "metadata": {},
   "outputs": [
    {
     "name": "stdout",
     "output_type": "stream",
     "text": [
      "Found 2922 images belonging to 4 classes.\n"
     ]
    }
   ],
   "source": [
    "import numpy as np\n",
    "from tensorflow.keras.preprocessing.image import ImageDataGenerator\n",
    "\n",
    "img_size = (224, 224)\n",
    "batch_size = 40\n",
    "\n",
    "test_datagen = ImageDataGenerator(rescale=1./255)\n",
    "\n",
    "test_generator = test_datagen.flow_from_directory(\n",
    "    test_dir,\n",
    "    target_size=img_size,\n",
    "    batch_size=batch_size,\n",
    "    class_mode=\"categorical\",  # Change to 'categorical' if multi-class\n",
    "    shuffle=False\n",
    ")\n",
    "\n",
    "true_labels = test_generator.classes\n"
   ]
  },
  {
   "cell_type": "code",
   "execution_count": 27,
   "metadata": {},
   "outputs": [
    {
     "name": "stdout",
     "output_type": "stream",
     "text": [
      "74/74 [==============================] - 19s 251ms/step\n"
     ]
    }
   ],
   "source": [
    "pred_probs = model.predict(test_generator)\n",
    "\n",
    "pred_labels = np.argmax(pred_probs, axis=1)\n"
   ]
  },
  {
   "cell_type": "code",
   "execution_count": 28,
   "metadata": {},
   "outputs": [
    {
     "name": "stdout",
     "output_type": "stream",
     "text": [
      "Confusion Matrix:\n",
      "[[827  28   1  26]\n",
      " [ 20 835   0   5]\n",
      " [  4   4 706   4]\n",
      " [ 31  11   1 419]]\n"
     ]
    }
   ],
   "source": [
    "from sklearn.metrics import confusion_matrix\n",
    "\n",
    "cm = confusion_matrix(true_labels, pred_labels)\n",
    "\n",
    "print(\"Confusion Matrix:\")\n",
    "print(cm)\n"
   ]
  },
  {
   "cell_type": "code",
   "execution_count": 29,
   "metadata": {},
   "outputs": [
    {
     "name": "stdout",
     "output_type": "stream",
     "text": [
      "Classification Report:\n",
      "              precision    recall  f1-score   support\n",
      "\n",
      "   EarlyPreB     0.9376    0.9376    0.9376       882\n",
      "        PreB     0.9510    0.9709    0.9609       860\n",
      "        ProB     0.9972    0.9833    0.9902       718\n",
      "      benign     0.9229    0.9069    0.9148       462\n",
      "\n",
      "    accuracy                         0.9538      2922\n",
      "   macro avg     0.9522    0.9497    0.9509      2922\n",
      "weighted avg     0.9539    0.9538    0.9538      2922\n",
      "\n",
      "Accuracy: 0.9538\n"
     ]
    }
   ],
   "source": [
    "from sklearn.metrics import classification_report, accuracy_score\n",
    "\n",
    "class_labels = list(test_generator.class_indices.keys())\n",
    "print(\"Classification Report:\")\n",
    "print(classification_report(true_labels, pred_labels, target_names=class_labels, digits=4))\n",
    "\n",
    "# akurasi\n",
    "accuracy = accuracy_score(true_labels, pred_labels)\n",
    "print(f\"Accuracy: {accuracy:.4f}\")\n"
   ]
  },
  {
   "cell_type": "code",
   "execution_count": 30,
   "metadata": {},
   "outputs": [
    {
     "data": {
      "image/png": "[encoded data removed]",
      "text/plain": [
       "<Figure size 800x600 with 2 Axes>"
      ]
     },
     "metadata": {},
     "output_type": "display_data"
    }
   ],
   "source": [
    "import seaborn as sns\n",
    "import matplotlib.pyplot as plt\n",
    "\n",
    "plt.figure(figsize=(8, 6))\n",
    "sns.heatmap(cm, annot=True, fmt=\"d\", cmap=\"Blues\", xticklabels=class_labels, yticklabels=class_labels)\n",
    "plt.xlabel(\"Predicted Label\")\n",
    "plt.ylabel(\"True Label\")\n",
    "plt.title(\"Confusion Matrix\")\n",
    "plt.show()\n"
   ]
  }
 ],
 "metadata": {
  "kernelspec": {
   "display_name": "python310",
   "language": "python",
   "name": "python3"
  },
  "language_info": {
   "codemirror_mode": {
    "name": "ipython",
    "version": 3
   },
   "file_extension": ".py",
   "mimetype": "text/x-python",
   "name": "python",
   "nbconvert_exporter": "python",
   "pygments_lexer": "ipython3",
   "version": "3.10.16"
  }
 },
 "nbformat": 4,
 "nbformat_minor": 2
}
