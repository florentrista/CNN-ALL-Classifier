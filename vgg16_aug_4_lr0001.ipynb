{
 "cells": [
  {
   "cell_type": "code",
   "execution_count": 20,
   "metadata": {},
   "outputs": [
    {
     "name": "stdout",
     "output_type": "stream",
     "text": [
      "[PhysicalDevice(name='/physical_device:GPU:0', device_type='GPU')]\n"
     ]
    }
   ],
   "source": [
    "import tensorflow as tf\n",
    "print(tf.config.list_physical_devices('GPU'))"
   ]
  },
  {
   "cell_type": "code",
   "execution_count": 21,
   "metadata": {},
   "outputs": [
    {
     "data": {
      "text/plain": [
       "True"
      ]
     },
     "execution_count": 21,
     "metadata": {},
     "output_type": "execute_result"
    }
   ],
   "source": [
    "tf.config.list_physical_devices('GPU')\n",
    "tf.test.is_gpu_available()\n"
   ]
  },
  {
   "cell_type": "code",
   "execution_count": 22,
   "metadata": {},
   "outputs": [
    {
     "name": "stdout",
     "output_type": "stream",
     "text": [
      "Num GPUs Available:  1\n"
     ]
    }
   ],
   "source": [
    "print(\"Num GPUs Available: \", len(tf.config.list_physical_devices('GPU')))"
   ]
  },
  {
   "cell_type": "code",
   "execution_count": 23,
   "metadata": {},
   "outputs": [],
   "source": [
    "import tensorflow as tf\n",
    "from zipfile import ZipFile\n",
    "import os,glob\n",
    "import cv2\n",
    "from tqdm.notebook import tqdm_notebook as tqdm\n",
    "import numpy as np\n",
    "from sklearn import preprocessing\n",
    "from sklearn.model_selection import train_test_split\n",
    "from keras.models import Sequential\n",
    "from keras.layers import Convolution2D, Dropout, Dense,MaxPooling2D\n",
    "from keras.layers import BatchNormalization\n",
    "from keras.layers import MaxPooling2D\n",
    "from keras.layers import Flatten\n",
    "from zipfile import ZipFile\n",
    "import numpy as np\n",
    "from sklearn.metrics import confusion_matrix, ConfusionMatrixDisplay\n",
    "import matplotlib.pyplot as plt\n",
    "import pandas as pd\n",
    "from keras.callbacks import ModelCheckpoint"
   ]
  },
  {
   "cell_type": "code",
   "execution_count": 24,
   "metadata": {},
   "outputs": [],
   "source": [
    "import sys\n",
    "from PIL import Image\n",
    "sys.modules['Image'] = Image "
   ]
  },
  {
   "cell_type": "code",
   "execution_count": 25,
   "metadata": {},
   "outputs": [
    {
     "name": "stdout",
     "output_type": "stream",
     "text": [
      "c:\\Users\\LEGION\\anaconda3\\envs\\python310\\lib\\site-packages\\PIL\\Image.py\n"
     ]
    }
   ],
   "source": [
    "from PIL import Image\n",
    "print(Image.__file__)"
   ]
  },
  {
   "cell_type": "code",
   "execution_count": 26,
   "metadata": {},
   "outputs": [
    {
     "name": "stdout",
     "output_type": "stream",
     "text": [
      "c:\\Users\\LEGION\\anaconda3\\envs\\python310\\lib\\site-packages\\PIL\\Image.py\n"
     ]
    }
   ],
   "source": [
    "import Image\n",
    "print(Image.__file__)"
   ]
  },
  {
   "cell_type": "code",
   "execution_count": 27,
   "metadata": {},
   "outputs": [],
   "source": [
    "from tensorflow.keras.preprocessing.image import ImageDataGenerator"
   ]
  },
  {
   "cell_type": "code",
   "execution_count": 28,
   "metadata": {},
   "outputs": [],
   "source": [
    "# scale_datagen = ImageDataGenerator(rescale=1./255,\n",
    "#                                    validation_split=0.3)\n",
    "\n",
    "scale_datagen = ImageDataGenerator(rescale=1./255)"
   ]
  },
  {
   "cell_type": "code",
   "execution_count": null,
   "metadata": {},
   "outputs": [],
   "source": [
    "# train_dir = r\"D:\\PROJECT\\2_COMPUTER VISION\\Image Segmentation\\Augmented\"\n",
    "# # train_dir = '/content/drive/MyDrive/Colab Skripsi/DATASETNEW/2_Augmented'\n",
    "# # val_dir = '/content/drive/MyDrive/Colab Skripsi/DATASETNEW/2_Split/val'\n",
    "# # test_dir = '/content/drive/MyDrive/Colab Skripsi/DATASETNEW/2_Split/test'\n",
    "\n",
    "\n",
    "train_dir = r\"D:\\PROJECT\\2_COMPUTER VISION\\Image Segmentation\\Data Train Gabungan\"\n",
    "val_dir = r\"D:\\PROJECT\\2_COMPUTER VISION\\Image Segmentation\\Data Val Gabungan\"\n",
    "test_dir = r\"D:\\PROJECT\\2_COMPUTER VISION\\Image Segmentation\\SPLIT\\test\""
   ]
  },
  {
   "cell_type": "code",
   "execution_count": 30,
   "metadata": {},
   "outputs": [
    {
     "name": "stdout",
     "output_type": "stream",
     "text": [
      "Found 20412 images belonging to 4 classes.\n"
     ]
    }
   ],
   "source": [
    "train_generator = scale_datagen.flow_from_directory(\n",
    "    train_dir,\n",
    "    # subset='training',\n",
    "    target_size=(224, 224),\n",
    "    batch_size=40,\n",
    "    class_mode='categorical'\n",
    ")"
   ]
  },
  {
   "cell_type": "code",
   "execution_count": 31,
   "metadata": {},
   "outputs": [
    {
     "name": "stdout",
     "output_type": "stream",
     "text": [
      "Found 5823 images belonging to 4 classes.\n"
     ]
    }
   ],
   "source": [
    "val_generator = scale_datagen.flow_from_directory(\n",
    "    val_dir,\n",
    "    # subset='validation',\n",
    "    target_size=(224, 224),\n",
    "    batch_size=40,\n",
    "    class_mode='categorical'\n",
    ")"
   ]
  },
  {
   "cell_type": "code",
   "execution_count": 32,
   "metadata": {},
   "outputs": [
    {
     "name": "stdout",
     "output_type": "stream",
     "text": [
      "Found 327 images belonging to 4 classes.\n"
     ]
    }
   ],
   "source": [
    "test_generator = scale_datagen.flow_from_directory(\n",
    "    test_dir,\n",
    "    # subset='validation',\n",
    "    target_size=(224, 224),\n",
    "    batch_size=40,\n",
    "    class_mode='categorical'\n",
    ")"
   ]
  },
  {
   "cell_type": "code",
   "execution_count": 33,
   "metadata": {},
   "outputs": [
    {
     "name": "stdout",
     "output_type": "stream",
     "text": [
      "511\n",
      "146\n",
      "9\n"
     ]
    }
   ],
   "source": [
    "print(len(train_generator))\n",
    "print(len(val_generator))\n",
    "print(len(test_generator))"
   ]
  },
  {
   "cell_type": "code",
   "execution_count": 34,
   "metadata": {},
   "outputs": [
    {
     "name": "stdout",
     "output_type": "stream",
     "text": [
      "0 InputLayer False\n",
      "1 Conv2D False\n",
      "2 Conv2D False\n",
      "3 MaxPooling2D False\n",
      "4 Conv2D False\n",
      "5 Conv2D False\n",
      "6 MaxPooling2D False\n",
      "7 Conv2D False\n",
      "8 Conv2D False\n",
      "9 Conv2D False\n",
      "10 MaxPooling2D False\n",
      "11 Conv2D False\n",
      "12 Conv2D False\n",
      "13 Conv2D False\n",
      "14 MaxPooling2D False\n",
      "15 Conv2D False\n",
      "16 Conv2D False\n",
      "17 Conv2D False\n",
      "18 MaxPooling2D False\n"
     ]
    }
   ],
   "source": [
    "# jadi ini modelnya kek gausah bikin dari nol lagi tapi pake arsitektur yang udah ada\n",
    "\n",
    "from keras.applications import vgg16\n",
    "from keras.models import Sequential\n",
    "from keras.layers import Dense, Dropout, Activation, Flatten, GlobalAveragePooling2D\n",
    "from keras.layers import Conv2D, MaxPooling2D, ZeroPadding2D\n",
    "\n",
    "from keras.models import Model\n",
    "\n",
    "# SET DIMENSI INPUTNYA\n",
    "img_rows, img_cols = 224, 224\n",
    "\n",
    "# model learningnya based on imagenet dataset jadi weightnya set ke imagenet\n",
    "# top layer diganti soalnya outputnya ada 20k neuron, tapi kita cuma butuh 2 neuron soalnya outputnya kan cuma 2, yes sama no\n",
    "# ini download model yang udah ada jadi pake model vgg16\n",
    "vgg = vgg16.VGG16(weights = \"imagenet\",\n",
    "                  include_top = False,\n",
    "                  input_shape = (img_rows, img_cols, 3))\n",
    "\n",
    "# Ngefreeze 4 layer terkahir\n",
    "# Layers yang di set ke trainable defaultnya True\n",
    "\n",
    "for layer in vgg.layers:\n",
    "  layer.trainable = False\n",
    "\n",
    "# ngeprint semua layernya\n",
    "for (i, layer) in enumerate(vgg.layers):\n",
    "  print(str(i) + \" \"+ layer.__class__.__name__, layer.trainable)"
   ]
  },
  {
   "cell_type": "code",
   "execution_count": 35,
   "metadata": {},
   "outputs": [],
   "source": [
    "# tambahin beberapa layer ke model itu tadi\n",
    "\n",
    "def lw(bottom_model, num_classes):\n",
    "  \"\"\"\"creates the top or head of the model that will be\n",
    "  placed ontop of the bottom layers\"\"\"\n",
    "\n",
    "  top_model = bottom_model.output\n",
    "  top_model = GlobalAveragePooling2D()(top_model)\n",
    "  top_model = Dense(1024,activation=\"relu\")(top_model)\n",
    "  top_model = Dense(1024,activation=\"relu\")(top_model)\n",
    "  top_model = Dense(512,activation=\"relu\")(top_model)\n",
    "  top_model = Dense(num_classes,activation='softmax')(top_model) #last output layer, number of classes = 4\n",
    "  return top_model"
   ]
  },
  {
   "cell_type": "code",
   "execution_count": 36,
   "metadata": {},
   "outputs": [
    {
     "name": "stdout",
     "output_type": "stream",
     "text": [
      "Model: \"model_1\"\n",
      "_________________________________________________________________\n",
      " Layer (type)                Output Shape              Param #   \n",
      "=================================================================\n",
      " input_2 (InputLayer)        [(None, 224, 224, 3)]     0         \n",
      "                                                                 \n",
      " block1_conv1 (Conv2D)       (None, 224, 224, 64)      1792      \n",
      "                                                                 \n",
      " block1_conv2 (Conv2D)       (None, 224, 224, 64)      36928     \n",
      "                                                                 \n",
      " block1_pool (MaxPooling2D)  (None, 112, 112, 64)      0         \n",
      "                                                                 \n",
      " block2_conv1 (Conv2D)       (None, 112, 112, 128)     73856     \n",
      "                                                                 \n",
      " block2_conv2 (Conv2D)       (None, 112, 112, 128)     147584    \n",
      "                                                                 \n",
      " block2_pool (MaxPooling2D)  (None, 56, 56, 128)       0         \n",
      "                                                                 \n",
      " block3_conv1 (Conv2D)       (None, 56, 56, 256)       295168    \n",
      "                                                                 \n",
      " block3_conv2 (Conv2D)       (None, 56, 56, 256)       590080    \n",
      "                                                                 \n",
      " block3_conv3 (Conv2D)       (None, 56, 56, 256)       590080    \n",
      "                                                                 \n",
      " block3_pool (MaxPooling2D)  (None, 28, 28, 256)       0         \n",
      "                                                                 \n",
      " block4_conv1 (Conv2D)       (None, 28, 28, 512)       1180160   \n",
      "                                                                 \n",
      " block4_conv2 (Conv2D)       (None, 28, 28, 512)       2359808   \n",
      "                                                                 \n",
      " block4_conv3 (Conv2D)       (None, 28, 28, 512)       2359808   \n",
      "                                                                 \n",
      " block4_pool (MaxPooling2D)  (None, 14, 14, 512)       0         \n",
      "                                                                 \n",
      " block5_conv1 (Conv2D)       (None, 14, 14, 512)       2359808   \n",
      "                                                                 \n",
      " block5_conv2 (Conv2D)       (None, 14, 14, 512)       2359808   \n",
      "                                                                 \n",
      " block5_conv3 (Conv2D)       (None, 14, 14, 512)       2359808   \n",
      "                                                                 \n",
      " block5_pool (MaxPooling2D)  (None, 7, 7, 512)         0         \n",
      "                                                                 \n",
      " global_average_pooling2d_1   (None, 512)              0         \n",
      " (GlobalAveragePooling2D)                                        \n",
      "                                                                 \n",
      " dense_4 (Dense)             (None, 1024)              525312    \n",
      "                                                                 \n",
      " dense_5 (Dense)             (None, 1024)              1049600   \n",
      "                                                                 \n",
      " dense_6 (Dense)             (None, 512)               524800    \n",
      "                                                                 \n",
      " dense_7 (Dense)             (None, 4)                 2052      \n",
      "                                                                 \n",
      "=================================================================\n",
      "Total params: 16,816,452\n",
      "Trainable params: 2,101,764\n",
      "Non-trainable params: 14,714,688\n",
      "_________________________________________________________________\n",
      "None\n"
     ]
    }
   ],
   "source": [
    "# itu tadi udah dibikin function lw nya, secara function lwnya di call\n",
    "\n",
    "# jumlah class nya 2 soalnya yes sama no\n",
    "num_classes = 4\n",
    "\n",
    "FC_Head = lw(vgg, num_classes)\n",
    "\n",
    "model = Model(inputs = vgg.input, outputs = FC_Head)\n",
    "\n",
    "print(model.summary())"
   ]
  },
  {
   "cell_type": "code",
   "execution_count": 37,
   "metadata": {},
   "outputs": [],
   "source": [
    "from tensorflow.keras.models import Model\n",
    "from tensorflow.keras.optimizers import Adam\n",
    "# model.compile(optimizer='adam', loss = 'categorical_crossentropy',metrics = ['accuracy'])\n",
    "\n",
    "\n",
    "learning_rate = 0.0001\n",
    "optimizer = Adam(learning_rate=learning_rate)\n",
    "\n",
    "model.compile(optimizer=optimizer, loss='categorical_crossentropy', metrics=['accuracy'])"
   ]
  },
  {
   "cell_type": "code",
   "execution_count": 38,
   "metadata": {},
   "outputs": [
    {
     "name": "stdout",
     "output_type": "stream",
     "text": [
      "Epoch 1/30\n",
      "511/511 [==============================] - ETA: 0s - loss: 0.6818 - accuracy: 0.7338\n",
      "Epoch 1: val_accuracy improved from -inf to 0.85506, saving model to D:\\PROJECT\\SKRIPSI\\skripsi_vgg16_0001_augment_1.model.keras\n",
      "511/511 [==============================] - 758s 1s/step - loss: 0.6818 - accuracy: 0.7338 - val_loss: 0.3958 - val_accuracy: 0.8551\n",
      "Epoch 2/30\n",
      "511/511 [==============================] - ETA: 0s - loss: 0.3631 - accuracy: 0.8622\n",
      "Epoch 2: val_accuracy improved from 0.85506 to 0.89267, saving model to D:\\PROJECT\\SKRIPSI\\skripsi_vgg16_0001_augment_1.model.keras\n",
      "511/511 [==============================] - 162s 318ms/step - loss: 0.3631 - accuracy: 0.8622 - val_loss: 0.2971 - val_accuracy: 0.8927\n",
      "Epoch 3/30\n",
      "511/511 [==============================] - ETA: 0s - loss: 0.2997 - accuracy: 0.8853\n",
      "Epoch 3: val_accuracy improved from 0.89267 to 0.89318, saving model to D:\\PROJECT\\SKRIPSI\\skripsi_vgg16_0001_augment_1.model.keras\n",
      "511/511 [==============================] - 164s 321ms/step - loss: 0.2997 - accuracy: 0.8853 - val_loss: 0.2876 - val_accuracy: 0.8932\n",
      "Epoch 4/30\n",
      "511/511 [==============================] - ETA: 0s - loss: 0.2644 - accuracy: 0.8985\n",
      "Epoch 4: val_accuracy improved from 0.89318 to 0.90366, saving model to D:\\PROJECT\\SKRIPSI\\skripsi_vgg16_0001_augment_1.model.keras\n",
      "511/511 [==============================] - 164s 322ms/step - loss: 0.2644 - accuracy: 0.8985 - val_loss: 0.2732 - val_accuracy: 0.9037\n",
      "Epoch 5/30\n",
      "511/511 [==============================] - ETA: 0s - loss: 0.2420 - accuracy: 0.9065\n",
      "Epoch 5: val_accuracy improved from 0.90366 to 0.91001, saving model to D:\\PROJECT\\SKRIPSI\\skripsi_vgg16_0001_augment_1.model.keras\n",
      "511/511 [==============================] - 167s 327ms/step - loss: 0.2420 - accuracy: 0.9065 - val_loss: 0.2346 - val_accuracy: 0.9100\n",
      "Epoch 6/30\n",
      "511/511 [==============================] - ETA: 0s - loss: 0.2251 - accuracy: 0.9131\n",
      "Epoch 6: val_accuracy improved from 0.91001 to 0.91929, saving model to D:\\PROJECT\\SKRIPSI\\skripsi_vgg16_0001_augment_1.model.keras\n",
      "511/511 [==============================] - 167s 327ms/step - loss: 0.2251 - accuracy: 0.9131 - val_loss: 0.2149 - val_accuracy: 0.9193\n",
      "Epoch 7/30\n",
      "511/511 [==============================] - ETA: 0s - loss: 0.2123 - accuracy: 0.9159\n",
      "Epoch 7: val_accuracy did not improve from 0.91929\n",
      "511/511 [==============================] - 164s 321ms/step - loss: 0.2123 - accuracy: 0.9159 - val_loss: 0.2116 - val_accuracy: 0.9153\n",
      "Epoch 8/30\n",
      "511/511 [==============================] - ETA: 0s - loss: 0.1973 - accuracy: 0.9221\n",
      "Epoch 8: val_accuracy did not improve from 0.91929\n",
      "511/511 [==============================] - 164s 321ms/step - loss: 0.1973 - accuracy: 0.9221 - val_loss: 0.2261 - val_accuracy: 0.9174\n",
      "Epoch 9/30\n",
      "511/511 [==============================] - ETA: 0s - loss: 0.1786 - accuracy: 0.9307\n",
      "Epoch 9: val_accuracy did not improve from 0.91929\n",
      "511/511 [==============================] - 164s 321ms/step - loss: 0.1786 - accuracy: 0.9307 - val_loss: 0.2338 - val_accuracy: 0.9026\n",
      "Epoch 10/30\n",
      "511/511 [==============================] - ETA: 0s - loss: 0.1693 - accuracy: 0.9348\n",
      "Epoch 10: val_accuracy did not improve from 0.91929\n",
      "511/511 [==============================] - 164s 322ms/step - loss: 0.1693 - accuracy: 0.9348 - val_loss: 0.2336 - val_accuracy: 0.9167\n",
      "Epoch 11/30\n",
      "511/511 [==============================] - ETA: 0s - loss: 0.1623 - accuracy: 0.9373\n",
      "Epoch 11: val_accuracy improved from 0.91929 to 0.92890, saving model to D:\\PROJECT\\SKRIPSI\\skripsi_vgg16_0001_augment_1.model.keras\n",
      "511/511 [==============================] - 165s 323ms/step - loss: 0.1623 - accuracy: 0.9373 - val_loss: 0.1948 - val_accuracy: 0.9289\n",
      "Epoch 12/30\n",
      "511/511 [==============================] - ETA: 0s - loss: 0.1554 - accuracy: 0.9400\n",
      "Epoch 12: val_accuracy did not improve from 0.92890\n",
      "511/511 [==============================] - 164s 322ms/step - loss: 0.1554 - accuracy: 0.9400 - val_loss: 0.2151 - val_accuracy: 0.9234\n",
      "Epoch 13/30\n",
      "511/511 [==============================] - ETA: 0s - loss: 0.1442 - accuracy: 0.9435\n",
      "Epoch 13: val_accuracy did not improve from 0.92890\n",
      "511/511 [==============================] - 164s 322ms/step - loss: 0.1442 - accuracy: 0.9435 - val_loss: 0.2240 - val_accuracy: 0.9205\n",
      "Epoch 14/30\n",
      "511/511 [==============================] - ETA: 0s - loss: 0.1396 - accuracy: 0.9454\n",
      "Epoch 14: val_accuracy did not improve from 0.92890\n",
      "511/511 [==============================] - 164s 322ms/step - loss: 0.1396 - accuracy: 0.9454 - val_loss: 0.2341 - val_accuracy: 0.9207\n",
      "Epoch 15/30\n",
      "511/511 [==============================] - ETA: 0s - loss: 0.1390 - accuracy: 0.9443\n",
      "Epoch 15: val_accuracy did not improve from 0.92890\n",
      "511/511 [==============================] - 164s 321ms/step - loss: 0.1390 - accuracy: 0.9443 - val_loss: 0.2169 - val_accuracy: 0.9210\n",
      "Epoch 16/30\n",
      "511/511 [==============================] - ETA: 0s - loss: 0.1231 - accuracy: 0.9514\n",
      "Epoch 16: val_accuracy did not improve from 0.92890\n",
      "511/511 [==============================] - 164s 321ms/step - loss: 0.1231 - accuracy: 0.9514 - val_loss: 0.2289 - val_accuracy: 0.9071\n",
      "Epoch 17/30\n",
      "511/511 [==============================] - ETA: 0s - loss: 0.1236 - accuracy: 0.9524\n",
      "Epoch 17: val_accuracy did not improve from 0.92890\n",
      "511/511 [==============================] - 164s 321ms/step - loss: 0.1236 - accuracy: 0.9524 - val_loss: 0.2601 - val_accuracy: 0.9133\n",
      "Epoch 18/30\n",
      "511/511 [==============================] - ETA: 0s - loss: 0.1125 - accuracy: 0.9567\n",
      "Epoch 18: val_accuracy improved from 0.92890 to 0.93010, saving model to D:\\PROJECT\\SKRIPSI\\skripsi_vgg16_0001_augment_1.model.keras\n",
      "511/511 [==============================] - 164s 322ms/step - loss: 0.1125 - accuracy: 0.9567 - val_loss: 0.1917 - val_accuracy: 0.9301\n",
      "Epoch 19/30\n",
      "511/511 [==============================] - ETA: 0s - loss: 0.1135 - accuracy: 0.9561\n",
      "Epoch 19: val_accuracy improved from 0.93010 to 0.93320, saving model to D:\\PROJECT\\SKRIPSI\\skripsi_vgg16_0001_augment_1.model.keras\n",
      "511/511 [==============================] - 165s 323ms/step - loss: 0.1135 - accuracy: 0.9561 - val_loss: 0.1939 - val_accuracy: 0.9332\n",
      "Epoch 20/30\n",
      "511/511 [==============================] - ETA: 0s - loss: 0.1076 - accuracy: 0.9587\n",
      "Epoch 20: val_accuracy did not improve from 0.93320\n",
      "511/511 [==============================] - 164s 321ms/step - loss: 0.1076 - accuracy: 0.9587 - val_loss: 0.2058 - val_accuracy: 0.9332\n",
      "Epoch 21/30\n",
      "511/511 [==============================] - ETA: 0s - loss: 0.0987 - accuracy: 0.9623\n",
      "Epoch 21: val_accuracy did not improve from 0.93320\n",
      "511/511 [==============================] - 164s 321ms/step - loss: 0.0987 - accuracy: 0.9623 - val_loss: 0.2244 - val_accuracy: 0.9262\n",
      "Epoch 22/30\n",
      "511/511 [==============================] - ETA: 0s - loss: 0.0955 - accuracy: 0.9639\n",
      "Epoch 22: val_accuracy did not improve from 0.93320\n",
      "511/511 [==============================] - 164s 322ms/step - loss: 0.0955 - accuracy: 0.9639 - val_loss: 0.2241 - val_accuracy: 0.9272\n",
      "Epoch 23/30\n",
      "511/511 [==============================] - ETA: 0s - loss: 0.0926 - accuracy: 0.9645\n",
      "Epoch 23: val_accuracy did not improve from 0.93320\n",
      "511/511 [==============================] - 164s 321ms/step - loss: 0.0926 - accuracy: 0.9645 - val_loss: 0.2067 - val_accuracy: 0.9303\n",
      "Epoch 24/30\n",
      "511/511 [==============================] - ETA: 0s - loss: 0.0876 - accuracy: 0.9667\n",
      "Epoch 24: val_accuracy did not improve from 0.93320\n",
      "511/511 [==============================] - 164s 321ms/step - loss: 0.0876 - accuracy: 0.9667 - val_loss: 0.2284 - val_accuracy: 0.9280\n",
      "Epoch 25/30\n",
      "511/511 [==============================] - ETA: 0s - loss: 0.0876 - accuracy: 0.9670\n",
      "Epoch 25: val_accuracy improved from 0.93320 to 0.93543, saving model to D:\\PROJECT\\SKRIPSI\\skripsi_vgg16_0001_augment_1.model.keras\n",
      "511/511 [==============================] - 164s 322ms/step - loss: 0.0876 - accuracy: 0.9670 - val_loss: 0.1939 - val_accuracy: 0.9354\n",
      "Epoch 26/30\n",
      "511/511 [==============================] - ETA: 0s - loss: 0.0822 - accuracy: 0.9678\n",
      "Epoch 26: val_accuracy did not improve from 0.93543\n",
      "511/511 [==============================] - 164s 321ms/step - loss: 0.0822 - accuracy: 0.9678 - val_loss: 0.2328 - val_accuracy: 0.9304\n",
      "Epoch 27/30\n",
      "511/511 [==============================] - ETA: 0s - loss: 0.0795 - accuracy: 0.9692\n",
      "Epoch 27: val_accuracy did not improve from 0.93543\n",
      "511/511 [==============================] - 164s 321ms/step - loss: 0.0795 - accuracy: 0.9692 - val_loss: 0.2297 - val_accuracy: 0.9291\n",
      "Epoch 28/30\n",
      "511/511 [==============================] - ETA: 0s - loss: 0.0811 - accuracy: 0.9692\n",
      "Epoch 28: val_accuracy improved from 0.93543 to 0.93921, saving model to D:\\PROJECT\\SKRIPSI\\skripsi_vgg16_0001_augment_1.model.keras\n",
      "511/511 [==============================] - 165s 323ms/step - loss: 0.0811 - accuracy: 0.9692 - val_loss: 0.2102 - val_accuracy: 0.9392\n",
      "Epoch 29/30\n",
      "511/511 [==============================] - ETA: 0s - loss: 0.0706 - accuracy: 0.9735\n",
      "Epoch 29: val_accuracy did not improve from 0.93921\n",
      "511/511 [==============================] - 164s 321ms/step - loss: 0.0706 - accuracy: 0.9735 - val_loss: 0.2364 - val_accuracy: 0.9286\n",
      "Epoch 30/30\n",
      "511/511 [==============================] - ETA: 0s - loss: 0.0710 - accuracy: 0.9733\n",
      "Epoch 30: val_accuracy did not improve from 0.93921\n",
      "511/511 [==============================] - 164s 322ms/step - loss: 0.0710 - accuracy: 0.9733 - val_loss: 0.2244 - val_accuracy: 0.9351\n"
     ]
    }
   ],
   "source": [
    "# training mulai\n",
    "filepath=r'D:\\PROJECT\\SKRIPSI\\skripsi_vgg16_0001_augment_1.model.keras'\n",
    "checkpoint = ModelCheckpoint(filepath=filepath,\n",
    "                             monitor='val_accuracy',\n",
    "                             save_best_only=True,\n",
    "                             mode='max',\n",
    "                             verbose=1)\n",
    "history = model.fit(train_generator,\n",
    "                    epochs=30,\n",
    "                    validation_data=(val_generator),\n",
    "                    initial_epoch=0,\n",
    "                    callbacks=[checkpoint])\n",
    "\n",
    "\n",
    "# # training mulai\n",
    "\n",
    "# history = model.fit(train_generator,\n",
    "#                     epochs=10,\n",
    "#                     validation_data=(val_generator),\n",
    "#                     verbose = 1,\n",
    "#                     initial_epoch=0)"
   ]
  },
  {
   "cell_type": "code",
   "execution_count": 39,
   "metadata": {},
   "outputs": [],
   "source": [
    "# SAVE MODEL\n",
    "save_path = r\"D:\\PROJECT\\SKRIPSI\\skripsi_vgg16_0001_augment_1.h5\"\n",
    "model.save(save_path)"
   ]
  },
  {
   "cell_type": "code",
   "execution_count": 40,
   "metadata": {},
   "outputs": [],
   "source": [
    "# SAVE MODEL\n",
    "weights_path = r\"D:\\PROJECT\\SKRIPSI\\skripsi_vgg16_0001_augment_1_weights.h5\"\n",
    "model.save_weights(weights_path)"
   ]
  },
  {
   "cell_type": "markdown",
   "metadata": {},
   "source": [
    "EVALUASI"
   ]
  },
  {
   "cell_type": "code",
   "execution_count": 41,
   "metadata": {},
   "outputs": [
    {
     "data": {
      "image/png": "[encoded data removed]",
      "text/plain": [
       "<Figure size 640x480 with 1 Axes>"
      ]
     },
     "metadata": {},
     "output_type": "display_data"
    },
    {
     "data": {
      "text/plain": [
       "<Figure size 640x480 with 0 Axes>"
      ]
     },
     "metadata": {},
     "output_type": "display_data"
    }
   ],
   "source": [
    "import matplotlib.pyplot as plt\n",
    "%matplotlib inline\n",
    "acc = history.history['accuracy']\n",
    "val_acc = history.history['val_accuracy']\n",
    "loss = history.history['loss']\n",
    "val_loss = history.history['val_loss']\n",
    "\n",
    "epochs = range(len(acc))\n",
    "\n",
    "plt.plot(epochs, acc, 'r', label='Training accuracy')\n",
    "plt.plot(epochs, val_acc, 'b', label='validation accuracy')\n",
    "plt.title('Training and validation accuracy')\n",
    "plt.legend(loc=0)\n",
    "plt.figure()\n",
    "\n",
    "plt.show()"
   ]
  },
  {
   "cell_type": "code",
   "execution_count": 42,
   "metadata": {},
   "outputs": [
    {
     "data": {
      "image/png": "[encoded data removed]",
      "text/plain": [
       "<Figure size 1200x500 with 2 Axes>"
      ]
     },
     "metadata": {},
     "output_type": "display_data"
    }
   ],
   "source": [
    "# Grafik plot value accuracy training sama validation\n",
    "plt.figure(figsize=(12, 5))\n",
    "\n",
    "plt.subplot(1, 2, 1)\n",
    "plt.plot(acc, 'r', label='Training Accuracy')\n",
    "plt.plot(val_acc, 'b', label='Validation Accuracy')\n",
    "plt.title('Model Accuracy')\n",
    "plt.xlabel('Epoch')\n",
    "plt.ylabel('Accuracy')\n",
    "plt.legend()\n",
    "plt.grid(True)\n",
    "\n",
    "# Grafik plot value loss training sama validation\n",
    "plt.subplot(1, 2, 2)\n",
    "plt.plot(loss, 'g', label='Training Loss')\n",
    "plt.plot(val_loss, 'y', label='Validation Loss')\n",
    "plt.title('Model Loss')\n",
    "plt.xlabel('Epoch')\n",
    "plt.ylabel('Loss')\n",
    "plt.legend()\n",
    "plt.grid(True)\n",
    "\n",
    "plt.show()"
   ]
  },
  {
   "cell_type": "code",
   "execution_count": 43,
   "metadata": {},
   "outputs": [],
   "source": [
    "from tensorflow import keras\n",
    "\n",
    "model = keras.models.load_model(\"skripsi_vgg16_0001_augment_1.h5\")"
   ]
  },
  {
   "cell_type": "code",
   "execution_count": 44,
   "metadata": {},
   "outputs": [
    {
     "name": "stdout",
     "output_type": "stream",
     "text": [
      "Found 327 images belonging to 4 classes.\n"
     ]
    }
   ],
   "source": [
    "import numpy as np\n",
    "from tensorflow.keras.preprocessing.image import ImageDataGenerator\n",
    "\n",
    "img_size = (224, 224)\n",
    "batch_size = 40\n",
    "\n",
    "test_datagen = ImageDataGenerator(rescale=1./255)\n",
    "\n",
    "test_generator = test_datagen.flow_from_directory(\n",
    "    test_dir,\n",
    "    target_size=img_size,\n",
    "    batch_size=batch_size,\n",
    "    class_mode=\"categorical\",  # Change to 'categorical' if multi-class\n",
    "    shuffle=False\n",
    ")\n",
    "\n",
    "true_labels = test_generator.classes\n"
   ]
  },
  {
   "cell_type": "code",
   "execution_count": 45,
   "metadata": {},
   "outputs": [
    {
     "name": "stdout",
     "output_type": "stream",
     "text": [
      "9/9 [==============================] - 7s 832ms/step\n"
     ]
    }
   ],
   "source": [
    "pred_probs = model.predict(test_generator)\n",
    "\n",
    "pred_labels = np.argmax(pred_probs, axis=1)\n"
   ]
  },
  {
   "cell_type": "code",
   "execution_count": 46,
   "metadata": {},
   "outputs": [
    {
     "name": "stdout",
     "output_type": "stream",
     "text": [
      "Confusion Matrix:\n",
      "[[98  0  0  1]\n",
      " [ 3 93  0  0]\n",
      " [ 0  2 78  0]\n",
      " [ 6  0  0 46]]\n"
     ]
    }
   ],
   "source": [
    "from sklearn.metrics import confusion_matrix\n",
    "\n",
    "cm = confusion_matrix(true_labels, pred_labels)\n",
    "\n",
    "print(\"Confusion Matrix:\")\n",
    "print(cm)\n"
   ]
  },
  {
   "cell_type": "code",
   "execution_count": 47,
   "metadata": {},
   "outputs": [
    {
     "name": "stdout",
     "output_type": "stream",
     "text": [
      "Classification Report:\n",
      "              precision    recall  f1-score   support\n",
      "\n",
      "   EarlyPreB     0.9159    0.9899    0.9515        99\n",
      "        PreB     0.9789    0.9688    0.9738        96\n",
      "        ProB     1.0000    0.9750    0.9873        80\n",
      "      benign     0.9787    0.8846    0.9293        52\n",
      "\n",
      "    accuracy                         0.9633       327\n",
      "   macro avg     0.9684    0.9546    0.9605       327\n",
      "weighted avg     0.9650    0.9633    0.9633       327\n",
      "\n",
      "Accuracy: 0.9633\n"
     ]
    }
   ],
   "source": [
    "from sklearn.metrics import classification_report, accuracy_score\n",
    "\n",
    "class_labels = list(test_generator.class_indices.keys())\n",
    "print(\"Classification Report:\")\n",
    "print(classification_report(true_labels, pred_labels, target_names=class_labels, digits=4))\n",
    "\n",
    "# akurasi\n",
    "accuracy = accuracy_score(true_labels, pred_labels)\n",
    "print(f\"Accuracy: {accuracy:.4f}\")\n"
   ]
  },
  {
   "cell_type": "code",
   "execution_count": 48,
   "metadata": {},
   "outputs": [
    {
     "data": {
      "image/png": "[encoded data removed]",
      "text/plain": [
       "<Figure size 800x600 with 2 Axes>"
      ]
     },
     "metadata": {},
     "output_type": "display_data"
    }
   ],
   "source": [
    "import seaborn as sns\n",
    "import matplotlib.pyplot as plt\n",
    "\n",
    "plt.figure(figsize=(8, 6))\n",
    "sns.heatmap(cm, annot=True, fmt=\"d\", cmap=\"Blues\", xticklabels=class_labels, yticklabels=class_labels)\n",
    "plt.xlabel(\"Predicted Label\")\n",
    "plt.ylabel(\"True Label\")\n",
    "plt.title(\"Confusion Matrix\")\n",
    "plt.show()\n"
   ]
  }
 ],
 "metadata": {
  "kernelspec": {
   "display_name": "python310",
   "language": "python",
   "name": "python3"
  },
  "language_info": {
   "codemirror_mode": {
    "name": "ipython",
    "version": 3
   },
   "file_extension": ".py",
   "mimetype": "text/x-python",
   "name": "python",
   "nbconvert_exporter": "python",
   "pygments_lexer": "ipython3",
   "version": "3.10.16"
  }
 },
 "nbformat": 4,
 "nbformat_minor": 2
}
